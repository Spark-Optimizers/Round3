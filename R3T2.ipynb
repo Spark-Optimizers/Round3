{
 "cells": [
  {
   "cell_type": "markdown",
   "metadata": {},
   "source": [
    "# R3T2"
   ]
  },
  {
   "cell_type": "markdown",
   "metadata": {},
   "source": [
    "# openning Data"
   ]
  },
  {
   "cell_type": "code",
   "execution_count": 7,
   "metadata": {},
   "outputs": [],
   "source": [
    "using GLPK\n",
    "using SparseArrays\n",
    "using JuMP\n",
    "using COSMO\n",
    "using LinearAlgebra\n",
    "using MAT"
   ]
  },
  {
   "cell_type": "code",
   "execution_count": 8,
   "metadata": {},
   "outputs": [
    {
     "data": {
      "text/plain": [
       "3-element Array{String,1}:\n",
       " \"L\"\n",
       " \"S\"\n",
       " \"U\""
      ]
     },
     "execution_count": 8,
     "metadata": {},
     "output_type": "execute_result"
    }
   ],
   "source": [
    "file = matopen(\"R3T2.mat\")\n",
    "varnames = names(file)"
   ]
  },
  {
   "cell_type": "code",
   "execution_count": 9,
   "metadata": {},
   "outputs": [],
   "source": [
    "S = read(file, \"S\")\n",
    "L = read(file, \"L\")\n",
    "U = read(file, \"U\");"
   ]
  },
  {
   "cell_type": "code",
   "execution_count": 10,
   "metadata": {},
   "outputs": [
    {
     "data": {
      "text/plain": [
       "(2172, 4456)"
      ]
     },
     "execution_count": 10,
     "metadata": {},
     "output_type": "execute_result"
    }
   ],
   "source": [
    "(m,n)=size(S)"
   ]
  },
  {
   "cell_type": "code",
   "execution_count": 11,
   "metadata": {},
   "outputs": [
    {
     "data": {
      "text/plain": [
       "(4456, 50)"
      ]
     },
     "execution_count": 11,
     "metadata": {},
     "output_type": "execute_result"
    }
   ],
   "source": [
    "(r,c) = size(L)"
   ]
  },
  {
   "cell_type": "code",
   "execution_count": 12,
   "metadata": {},
   "outputs": [],
   "source": [
    "SVzeros = zeros(m,c);"
   ]
  },
  {
   "cell_type": "markdown",
   "metadata": {},
   "source": [
    "# constructing model"
   ]
  },
  {
   "cell_type": "code",
   "execution_count": 13,
   "metadata": {},
   "outputs": [
    {
     "data": {
      "text/plain": [
       "zero_rows (generic function with 1 method)"
      ]
     },
     "execution_count": 13,
     "metadata": {},
     "output_type": "execute_result"
    }
   ],
   "source": [
    "function zero_rows(V)\n",
    "    indexes= zeros(Int64,size(V)[1],1)\n",
    "    k=1\n",
    "    for i in 1:size(V)[1]\n",
    "        if sum(V[i,:].*V[i,:])<1e-10\n",
    "            indexes[k]= i\n",
    "            k+=1\n",
    "        end\n",
    "    end\n",
    "    return indexes[1:k-1]\n",
    "end"
   ]
  },
  {
   "cell_type": "code",
   "execution_count": 14,
   "metadata": {
    "scrolled": true
   },
   "outputs": [
    {
     "data": {
      "text/plain": [
       "solv (generic function with 1 method)"
      ]
     },
     "execution_count": 14,
     "metadata": {},
     "output_type": "execute_result"
    }
   ],
   "source": [
    "function solv(indexes)\n",
    "    answer= zeros(r,c)\n",
    "    col_zeros= zeros(m,1)\n",
    "    for j in 1:c\n",
    "        if j%500==0\n",
    "            print(j)\n",
    "        end\n",
    "        model = Model(GLPK.Optimizer)\n",
    "        @variable(model, v[1:r])\n",
    "        @variable(model, w[1:r])\n",
    "        @constraint(model, S*v .== col_zeros)\n",
    "        @constraint(model,v.>=L[:,j])\n",
    "        @constraint(model,U[:,j].>=v)\n",
    "        @constraint(model,w.>=v)\n",
    "        @constraint(model,w.>=-v)\n",
    "        for ind in indexes\n",
    "            @constraint(model,w[ind,:].==0)\n",
    "        end\n",
    "        @objective(model,Min,sum(w[i] for i in 1:r))\n",
    "        optimize!(model)\n",
    "        answer[:,j]= JuMP.value.(v)\n",
    "    end\n",
    "    return answer\n",
    "end"
   ]
  },
  {
   "cell_type": "code",
   "execution_count": 15,
   "metadata": {},
   "outputs": [
    {
     "data": {
      "text/plain": [
       "3646"
      ]
     },
     "execution_count": 15,
     "metadata": {},
     "output_type": "execute_result"
    }
   ],
   "source": [
    "answer=[]\n",
    "indexes= zero_rows(answer)\n",
    "answer= solv(indexes)\n",
    "length(zero_rows(answer))"
   ]
  },
  {
   "cell_type": "markdown",
   "metadata": {},
   "source": [
    "# writing to output file"
   ]
  },
  {
   "cell_type": "code",
   "execution_count": 28,
   "metadata": {},
   "outputs": [],
   "source": [
    "using DelimitedFiles\n",
    "open(\"output.txt\",\"w\") do io\n",
    "    writedlm(io, answer,\",\")\n",
    "end"
   ]
  }
 ],
 "metadata": {
  "kernelspec": {
   "display_name": "Julia 1.5.3",
   "language": "julia",
   "name": "julia-1.5"
  },
  "language_info": {
   "file_extension": ".jl",
   "mimetype": "application/julia",
   "name": "julia",
   "version": "1.5.3"
  }
 },
 "nbformat": 4,
 "nbformat_minor": 4
}
