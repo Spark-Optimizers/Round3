{
 "cells": [
  {
   "cell_type": "markdown",
   "metadata": {},
   "source": [
    "# R3T1"
   ]
  },
  {
   "cell_type": "markdown",
   "metadata": {},
   "source": [
    "# Openning Data"
   ]
  },
  {
   "cell_type": "code",
   "execution_count": null,
   "metadata": {},
   "outputs": [],
   "source": [
    "using SparseArrays\n",
    "using JuMP\n",
    "using Ipopt\n",
    "using GLPK\n",
    "using LinearAlgebra\n",
    "using MAT"
   ]
  },
  {
   "cell_type": "code",
   "execution_count": null,
   "metadata": {},
   "outputs": [],
   "source": [
    "file = matopen(\"R3T1.mat\")\n",
    "varnames = names(file)"
   ]
  },
  {
   "cell_type": "code",
   "execution_count": null,
   "metadata": {},
   "outputs": [],
   "source": [
    "S = read(file, \"S\")\n",
    "L = read(file, \"L\")\n",
    "U = read(file, \"U\");"
   ]
  },
  {
   "cell_type": "code",
   "execution_count": null,
   "metadata": {},
   "outputs": [],
   "source": [
    "(m,n)=size(S)\n",
    "(r,c) = size(L)"
   ]
  },
  {
   "cell_type": "markdown",
   "metadata": {},
   "source": [
    "# constructing model"
   ]
  },
  {
   "cell_type": "code",
   "execution_count": null,
   "metadata": {},
   "outputs": [],
   "source": [
    "mzeros = zeros(m,1);"
   ]
  },
  {
   "cell_type": "code",
   "execution_count": null,
   "metadata": {},
   "outputs": [],
   "source": [
    "# main function\n",
    "function opt_vector1(S,l,u)\n",
    "    model = Model(Ipopt.Optimizer)\n",
    "    @variable(model, l[i] <= v[i = 1:r] <= u[i])\n",
    "    @variable(model,a[1:r])\n",
    "    @constraint(model, S*v .== mzeros)\n",
    "    @constraint(model, a .>= v)\n",
    "    @constraint(model, a .>= -v)\n",
    "    @objective(model,Min,sum(a[i] for i=1:r))\n",
    "\n",
    "    optimize!(model)\n",
    "    \n",
    "    return JuMP.value.(v)\n",
    "end"
   ]
  },
  {
   "cell_type": "code",
   "execution_count": null,
   "metadata": {},
   "outputs": [],
   "source": [
    "# this function took too long that we terminated the run.\n",
    "function opt_vector2(S,L,U)\n",
    "    model = Model(GLPK.Optimizer)\n",
    "    @variable(model,V[i=1:r,j=1:c])\n",
    "    \n",
    "    @constraint(model, S*V .== mzeros)\n",
    "    @constraint(model, U .>= V)\n",
    "    @constraint(model, V .>= L)\n",
    "    @objective(model,Min,sum(V))\n",
    "\n",
    "    optimize!(model)\n",
    "    \n",
    "    return JuMP.value.(V)\n",
    "end"
   ]
  },
  {
   "cell_type": "code",
   "execution_count": null,
   "metadata": {},
   "outputs": [],
   "source": [
    "# we came up this idea after the end of this round\n",
    "function opt_vector3(S,l,u,z)\n",
    "    model = Model(Ipopt.Optimizer)\n",
    "    @variable(model, l[i] <= v[i = 1:r] <= u[i])\n",
    "    @variable(model,a[1:r])\n",
    "    @constraint(model, S*v .== mzeros)\n",
    "    @constraint(model, a .>= v)\n",
    "    @constraint(model, a .>= -v)\n",
    "    @NLobjective(model,Min,sum(log(1+z[i]+a[i]) for i=1:r))\n",
    "    optimize!(model)\n",
    "    \n",
    "    return JuMP.value.(v)\n",
    "end"
   ]
  },
  {
   "cell_type": "code",
   "execution_count": null,
   "metadata": {},
   "outputs": [],
   "source": [
    "function opt_vector4(S,l,u,z)\n",
    "    model = Model(Ipopt.Optimizer)\n",
    "    @variable(model, l[i] <= v[i = 1:r] <= u[i])\n",
    "    @variable(model,a[1:r])\n",
    "    @constraint(model, S*v .== mzeros)\n",
    "    @constraint(model, a .>= v)\n",
    "    @constraint(model, a .>= -v)\n",
    "    @NLobjective(model,Min,sum(z[i]*a[i] for i=1:r))\n",
    "    optimize!(model)\n",
    "    \n",
    "    return JuMP.value.(v)\n",
    "end"
   ]
  },
  {
   "cell_type": "code",
   "execution_count": null,
   "metadata": {},
   "outputs": [],
   "source": [
    "function update_weights(w,v,delta)\n",
    "    n = length(w)\n",
    "    phi = zeros(n,1)\n",
    "    for i=1:n\n",
    "        if(abs(delta+v[i])>10^(-4))\n",
    "            phi[i] = delta/(delta+v[i])\n",
    "        else\n",
    "            phi[i]=w[i]\n",
    "        end\n",
    "    end\n",
    "    return phi\n",
    "end"
   ]
  },
  {
   "cell_type": "code",
   "execution_count": null,
   "metadata": {},
   "outputs": [],
   "source": [
    "function zero_rows(V)\n",
    "    indexes= zeros(Int64,size(V)[1],1)\n",
    "    k=1\n",
    "    for i in 1:size(V)[1]\n",
    "        if sum(V[i,:].*V[i,:])<1e-10\n",
    "            indexes[k]= i\n",
    "            k+=1\n",
    "        end\n",
    "    end\n",
    "    return length(indexes[1:k-1])\n",
    "end"
   ]
  },
  {
   "cell_type": "code",
   "execution_count": null,
   "metadata": {},
   "outputs": [],
   "source": [
    "#this function computes l2-norm of each row and returns a vector of norms\n",
    "function row_squares(V)\n",
    "    r,c = size(V,1), size(V,2)\n",
    "    squares = zeros(r,1)\n",
    "    for i in 1:r\n",
    "        z=0\n",
    "        for j in 1:c\n",
    "           z += (V[i,j])^2\n",
    "        end\n",
    "        squares[i]=sqrt(z)\n",
    "    end\n",
    "    return squares\n",
    "end"
   ]
  },
  {
   "cell_type": "markdown",
   "metadata": {},
   "source": [
    "## running code with the function that we came up after the deadline of this round"
   ]
  },
  {
   "cell_type": "code",
   "execution_count": null,
   "metadata": {},
   "outputs": [],
   "source": [
    "l = L[:,1]\n",
    "u = U[:,1]\n",
    "z = ones(r,1)\n",
    "v = opt_vector3(S,l,u,z)\n",
    "#v = opt_vector1(S,l,u)\n",
    "zero_rows(v)"
   ]
  },
  {
   "cell_type": "code",
   "execution_count": null,
   "metadata": {},
   "outputs": [],
   "source": [
    "V=v;"
   ]
  },
  {
   "cell_type": "code",
   "execution_count": null,
   "metadata": {},
   "outputs": [],
   "source": [
    "for i in 2:c\n",
    "    if isdefined(Main, :IJulia)\n",
    "        Main.IJulia.stdio_bytes[] = 0\n",
    "    end\n",
    "    l = L[:,i]\n",
    "    u = U[:,i]\n",
    "    z = row_squares(V)\n",
    "    v = opt_vector3(S,l,u,z)\n",
    "    #v = opt_vector1(S,l,u)\n",
    "    V = [V v]\n",
    "    print(\"**i : \",i,\"\\n\")\n",
    "    print(\"***\",zero_rows(V),\"\\n\") \n",
    "end"
   ]
  },
  {
   "cell_type": "code",
   "execution_count": null,
   "metadata": {},
   "outputs": [],
   "source": [
    "zero_rows(V)"
   ]
  },
  {
   "cell_type": "markdown",
   "metadata": {},
   "source": [
    "#### number of zero rows are more than the answer we submitted"
   ]
  },
  {
   "cell_type": "code",
   "execution_count": null,
   "metadata": {},
   "outputs": [],
   "source": [
    "V"
   ]
  },
  {
   "cell_type": "markdown",
   "metadata": {},
   "source": [
    "# writing to output file"
   ]
  },
  {
   "cell_type": "code",
   "execution_count": null,
   "metadata": {},
   "outputs": [],
   "source": [
    "using DelimitedFiles\n",
    "open(\"output.txt\",\"w\") do io\n",
    "    writedlm(io, V,\",\")\n",
    "end"
   ]
  }
 ],
 "metadata": {
  "kernelspec": {
   "display_name": "Julia 1.5.3",
   "language": "julia",
   "name": "julia-1.5"
  },
  "language_info": {
   "file_extension": ".jl",
   "mimetype": "application/julia",
   "name": "julia",
   "version": "1.5.3"
  }
 },
 "nbformat": 4,
 "nbformat_minor": 4
}
